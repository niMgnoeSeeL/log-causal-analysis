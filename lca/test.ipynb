{
 "cells": [
  {
   "cell_type": "markdown",
   "metadata": {},
   "source": [
    "# Test script for log entropy analysis"
   ]
  },
  {
   "cell_type": "markdown",
   "metadata": {},
   "source": [
    "### Log parser"
   ]
  },
  {
   "cell_type": "code",
   "execution_count": 85,
   "metadata": {},
   "outputs": [
    {
     "data": {
      "text/plain": [
       "('2021-12-08 02:07:56,589', 32, 'top3')"
      ]
     },
     "execution_count": 85,
     "metadata": {},
     "output_type": "execute_result"
    }
   ],
   "source": [
    "def log_parser(l):\n",
    "    time_line_str = l.split(\"] \")[0].strip('[')\n",
    "    time_str = \":\".join(time_line_str.split(\":\")[:-1])\n",
    "    line = int(time_line_str.split(\":\")[-1])\n",
    "    log = l.split(\"] \")[1].strip()\n",
    "    return time_str, line, log\n",
    "log_parser(\"[2021-12-08 02:07:56,589:32] top3\")"
   ]
  },
  {
   "cell_type": "markdown",
   "metadata": {},
   "source": [
    "### Probability"
   ]
  },
  {
   "cell_type": "code",
   "execution_count": 86,
   "metadata": {},
   "outputs": [
    {
     "name": "stdout",
     "output_type": "stream",
     "text": [
      "0.3\n",
      "0.8\n",
      "0.3\n"
     ]
    }
   ],
   "source": [
    "from typing import List\n",
    "from functools import reduce\n",
    "import logging\n",
    "import numpy as np\n",
    "\n",
    "\n",
    "def prob(val_list: List[bool], data: np.array):\n",
    "    non_none_idx = [i for i, v in enumerate(val_list) if v is not None]\n",
    "    non_none_val = [val_list[i] for i in non_none_idx]\n",
    "    # print(1, val_list, non_none_idx, non_none_val)\n",
    "    assert(len(non_none_idx))\n",
    "    # print(2,  data[:, non_none_idx])\n",
    "    # print(3, data[:, non_none_idx] == non_none_val)\n",
    "    # print(4, np.all(data[:, non_none_idx] == non_none_val, axis=0))\n",
    "    # print(5, np.all(data[:, non_none_idx] == non_none_val, axis=1))\n",
    "    return np.sum(data[np.all(data[:, non_none_idx] == non_none_val, axis=1), -1])\n",
    "\n",
    "data = np.array([\n",
    "    [0, 1, 1, 0.3],\n",
    "    [0, 1, 0, 0.5],\n",
    "    [0, 0, 1, 0.2],\n",
    "])\n",
    "print(prob([0, 1, 1], data))\n",
    "print(prob([0, 1, None], data))\n",
    "print(prob([None, 1, 1], data))"
   ]
  },
  {
   "cell_type": "markdown",
   "metadata": {},
   "source": [
    "### Find all combination"
   ]
  },
  {
   "cell_type": "code",
   "execution_count": 87,
   "metadata": {},
   "outputs": [
    {
     "name": "stdout",
     "output_type": "stream",
     "text": [
      "[[0.0 0.0 None]\n",
      " [0.0 1.0 None]]\n"
     ]
    }
   ],
   "source": [
    "import numpy as np\n",
    "\n",
    "# get value combination of keys given set of keys\n",
    "def get_comb_set(X, data, key_list):\n",
    "    key_idx_list = [i for i, key in enumerate(key_list) if key in X]\n",
    "    # print(key_idx_list)\n",
    "    uniq_list = np.unique(data[:, key_idx_list], axis=0)\n",
    "    # print(2, uniq_list)\n",
    "    ret = []\n",
    "    for val_list in uniq_list:\n",
    "        comb = np.array([None] * len(key_list))\n",
    "        comb[key_idx_list] = val_list\n",
    "        ret.append(comb)\n",
    "    return np.array(ret)\n",
    "\n",
    "data_temp = np.array([\n",
    "    [0, 1, 1, 0.3],\n",
    "    [0, 1, 0, 0.5],\n",
    "    [0, 0, 1, 0.2],\n",
    "])\n",
    "print(get_comb_set([17, 19], data_temp, [17, 19, 20]))"
   ]
  },
  {
   "cell_type": "markdown",
   "metadata": {},
   "source": [
    "### Calc entropy"
   ]
  },
  {
   "cell_type": "code",
   "execution_count": 113,
   "metadata": {},
   "outputs": [
    {
     "name": "stdout",
     "output_type": "stream",
     "text": [
      "H(17, 19) = 0.7219280948873623\n"
     ]
    }
   ],
   "source": [
    "# Calculate H(X)\n",
    "def entropy(X, data, key_list):\n",
    "    comb_set = get_comb_set(X, data, key_list)\n",
    "    # print(comb_set)\n",
    "    # print(prob(comb_set[0], data))\n",
    "    H = 0\n",
    "    for comb in comb_set:\n",
    "        p_X = prob(comb, data)\n",
    "        logging.debug(comb, \"->\", p_X)\n",
    "        H -= p_X * np.log2(p_X)\n",
    "    return H\n",
    "\n",
    "print(\"H(17, 19) =\", entropy([17, 19], data_temp, [17, 19, 20]))\n"
   ]
  },
  {
   "cell_type": "markdown",
   "metadata": {},
   "source": [
    "### Calc conditional entropy"
   ]
  },
  {
   "cell_type": "code",
   "execution_count": 114,
   "metadata": {},
   "outputs": [
    {
     "name": "stdout",
     "output_type": "stream",
     "text": [
      "H(17, 19) = 0.7219280948873623\n",
      "H(17) = 0.0\n",
      "H(19|17) = 0.7219280948873623\n",
      "H(19|17) = 0.7219280948873623\n"
     ]
    }
   ],
   "source": [
    "# Calculate H(X|Y)\n",
    "def cond_entropy_for_check(X, Y, data, key_list):\n",
    "    XY = list(set(X + Y))\n",
    "    Y_idx_list = [i for i, key in enumerate(key_list) if key in Y]\n",
    "    key_size = len(key_list)\n",
    "    XY_comb_set = get_comb_set(XY, data, key_list)\n",
    "    H = 0\n",
    "    for comb in XY_comb_set:\n",
    "        p_XY = prob(comb, data)\n",
    "        comb_Y = [comb[i] if i in Y_idx_list else None for i in range(key_size)]\n",
    "        p_Y = prob(comb_Y, data)\n",
    "        logging.debug(comb, comb_Y, \"->\", p_XY, p_Y)\n",
    "        H += p_XY * np.log2(p_Y / p_XY)\n",
    "    return H\n",
    "\n",
    "print(\"H(17, 19) =\", entropy([17, 19], data_temp, [17, 19, 20]))\n",
    "print(\"H(17) =\", entropy([17], data_temp, [17, 19, 20]))\n",
    "print(\"H(19|17) =\", cond_entropy_for_check([19], [17], data_temp, [17, 19, 20]))\n",
    "\n",
    "# Calculate H(X|Y)\n",
    "def cond_entropy(X, Y, data, key_list):\n",
    "    XY = list(set(X + Y))\n",
    "    return entropy(XY, data, key_list) - entropy(Y, data, key_list)\n",
    "\n",
    "print(\"H(19|17) =\", cond_entropy([19], [17], data_temp, [17, 19, 20]))"
   ]
  },
  {
   "cell_type": "markdown",
   "metadata": {},
   "source": [
    "## Setting list"
   ]
  },
  {
   "cell_type": "code",
   "execution_count": 115,
   "metadata": {},
   "outputs": [
    {
     "data": {
      "text/plain": [
       "['77-31-12',\n",
       " '97-42-67',\n",
       " '28-11-62',\n",
       " '15-82-93',\n",
       " '14-60-75',\n",
       " '25-67-10',\n",
       " '97-27-52',\n",
       " '37-3-8',\n",
       " '95-32-8',\n",
       " '52-59-46']"
      ]
     },
     "execution_count": 115,
     "metadata": {},
     "output_type": "execute_result"
    }
   ],
   "source": [
    "import os\n",
    "\n",
    "os.chdir(\"/Users/bohrok/Documents/LCA/example/log\")\n",
    "os.listdir()"
   ]
  },
  {
   "cell_type": "markdown",
   "metadata": {},
   "source": [
    "## Choose one setting"
   ]
  },
  {
   "cell_type": "code",
   "execution_count": 116,
   "metadata": {},
   "outputs": [
    {
     "name": "stdout",
     "output_type": "stream",
     "text": [
      "77-31-12\n"
     ]
    }
   ],
   "source": [
    "setting = os.listdir()[0]\n",
    "print(setting)\n",
    "os.chdir(setting)"
   ]
  },
  {
   "cell_type": "markdown",
   "metadata": {},
   "source": [
    "## Generate data and log key list"
   ]
  },
  {
   "cell_type": "code",
   "execution_count": 117,
   "metadata": {},
   "outputs": [
    {
     "name": "stdout",
     "output_type": "stream",
     "text": [
      "[17, 19, 21, 23, 25, 27, 30, 32]\n",
      "[1.     1.     0.     1.     0.     1.     1.     1.     0.0559]\n",
      "[1.     1.     1.     0.     0.     1.     0.     1.     0.2084]\n",
      "1.0\n",
      "0.0\n",
      "0.7737999999999999\n"
     ]
    }
   ],
   "source": [
    "data_dict = {}\n",
    "key_set = set()\n",
    "total_log = 0\n",
    "for log_path in os.listdir():\n",
    "    total_log += 1\n",
    "    with open(log_path) as f:\n",
    "        key_tup = tuple(log_parser(l)[1] for l in f.readlines())\n",
    "        if key_tup not in data_dict:\n",
    "            data_dict[key_tup] = 1\n",
    "        else:\n",
    "            data_dict[key_tup] += 1\n",
    "        key_set = key_set.union(set(key_tup))\n",
    "key_list = sorted(list(key_set))\n",
    "data = np.array(\n",
    "    [\n",
    "        [key in k for key in key_list] + [v / total_log]\n",
    "        for k, v in data_dict.items()\n",
    "    ]\n",
    ")\n",
    "print(key_list)\n",
    "print(data[0])\n",
    "print(data[2])\n",
    "print(prob([1] + [None] * (len(key_list) - 1), data))\n",
    "print(prob([0, 1] + [None] * (len(key_list) - 2), data))\n",
    "print(prob([1, 1] + [None] * (len(key_list) - 2), data))\n"
   ]
  },
  {
   "cell_type": "markdown",
   "metadata": {},
   "source": [
    "### Entropy analysis"
   ]
  },
  {
   "cell_type": "code",
   "execution_count": 118,
   "metadata": {},
   "outputs": [
    {
     "data": {
      "text/plain": [
       "1.9896197363524322"
      ]
     },
     "execution_count": 118,
     "metadata": {},
     "output_type": "execute_result"
    }
   ],
   "source": [
    "entropy(key_list, data, key_list)"
   ]
  },
  {
   "cell_type": "code",
   "execution_count": 159,
   "metadata": {},
   "outputs": [
    {
     "name": "stdout",
     "output_type": "stream",
     "text": [
      "17 0.0\n",
      "19 0.7713280051425913\n",
      "21 0.79085809055281\n",
      "23 0.9961946033330253\n",
      "25 0.7713280051425913\n",
      "27 0.0\n",
      "30 0.529935486004238\n",
      "32 0.0\n"
     ]
    }
   ],
   "source": [
    "for key in key_list:\n",
    "    print(key, entropy([key], data, key_list))"
   ]
  },
  {
   "cell_type": "code",
   "execution_count": 122,
   "metadata": {},
   "outputs": [
    {
     "name": "stdout",
     "output_type": "stream",
     "text": [
      "H(17) = 0.0    sum_H = 0.0\n",
      "H(19|[17]) = 0.7713280051425913    sum_H = 0.7713280051425913\n",
      "H(21|[17, 19]) = 0.6883679396102069    sum_H = 1.4596959447527982\n",
      "H(23|[17, 19, 21]) = 0.0    sum_H = 1.4596959447527982\n",
      "H(25|[17, 19, 21, 23]) = 0.0    sum_H = 1.4596959447527982\n",
      "H(27|[17, 19, 21, 23, 25]) = 0.0    sum_H = 1.4596959447527982\n",
      "H(30|[17, 19, 21, 23, 25, 27]) = 0.529923791599634    sum_H = 1.9896197363524322\n",
      "H(32|[17, 19, 21, 23, 25, 27, 30]) = 0.0    sum_H = 1.9896197363524322\n"
     ]
    }
   ],
   "source": [
    "sum_H = 0\n",
    "agg_key = []\n",
    "for key in key_list:\n",
    "    if len(agg_key) == 0:\n",
    "        H = entropy([key], data, key_list)\n",
    "        print(f\"H({key}) = {H}\", end=\"    \")\n",
    "        \n",
    "    else:\n",
    "        H = cond_entropy([key], agg_key, data, key_list)\n",
    "        print(\n",
    "            f\"H({key}|{agg_key}) = {H}\", end=\"    \"\n",
    "        )\n",
    "    sum_H += H\n",
    "    print(f\"sum_H = {sum_H}\")\n",
    "    agg_key.append(key)"
   ]
  },
  {
   "cell_type": "code",
   "execution_count": 125,
   "metadata": {},
   "outputs": [
    {
     "name": "stdout",
     "output_type": "stream",
     "text": [
      "0.6883679396102069\n",
      "0.6883679396102069\n"
     ]
    }
   ],
   "source": [
    "print(cond_entropy([21], [17, 19], data, key_list))\n",
    "print(cond_entropy([21], [19], data, key_list))"
   ]
  },
  {
   "cell_type": "code",
   "execution_count": 128,
   "metadata": {},
   "outputs": [
    {
     "name": "stdout",
     "output_type": "stream",
     "text": [
      "0.0\n",
      "0.0\n",
      "0.6688378541999882\n",
      "0.6883679396102069\n"
     ]
    }
   ],
   "source": [
    "print(cond_entropy([23], [17, 19, 21], data, key_list))\n",
    "print(cond_entropy([23], [19, 21], data, key_list))\n",
    "print(cond_entropy([23], [21], data, key_list))\n",
    "print(cond_entropy([23], [19], data, key_list))"
   ]
  },
  {
   "cell_type": "code",
   "execution_count": 135,
   "metadata": {},
   "outputs": [
    {
     "name": "stdout",
     "output_type": "stream",
     "text": [
      "0.0\n",
      "0.0\n",
      "0.0\n",
      "0.6688378541999882\n",
      "0.46350134141977284\n",
      "0.0\n",
      "0.7713280051425913\n"
     ]
    }
   ],
   "source": [
    "print(cond_entropy([25], [17, 19, 21, 23], data, key_list))\n",
    "print(cond_entropy([25], [19, 21, 23], data, key_list))\n",
    "print(cond_entropy([25], [21, 23], data, key_list))\n",
    "print(cond_entropy([25], [21], data, key_list))\n",
    "print(cond_entropy([25], [23], data, key_list))\n",
    "\n",
    "print(cond_entropy([25], [19], data, key_list))\n",
    "print(cond_entropy([25], [17], data, key_list))"
   ]
  },
  {
   "cell_type": "code",
   "execution_count": 140,
   "metadata": {},
   "outputs": [
    {
     "name": "stdout",
     "output_type": "stream",
     "text": [
      "0.0\n",
      "0.0\n",
      "0.0\n",
      "0.0\n",
      "0.0\n",
      "0.0\n"
     ]
    }
   ],
   "source": [
    "print(cond_entropy([27], [17, 19, 21, 23, 25], data, key_list))\n",
    "print(cond_entropy([27], [19, 21, 23, 25], data, key_list))\n",
    "print(cond_entropy([27], [21, 23, 25], data, key_list))\n",
    "print(cond_entropy([27], [23, 25], data, key_list))\n",
    "print(cond_entropy([27], [25], data, key_list))\n",
    "print(entropy([27], data, key_list))"
   ]
  },
  {
   "cell_type": "code",
   "execution_count": 139,
   "metadata": {},
   "outputs": [
    {
     "name": "stdout",
     "output_type": "stream",
     "text": [
      "0.529923791599634\n",
      "0.529935486004238\n"
     ]
    }
   ],
   "source": [
    "print(cond_entropy([30], [17, 19, 21, 23, 25, 27], data, key_list))\n",
    "print(cond_entropy([30], [27], data, key_list))"
   ]
  },
  {
   "cell_type": "code",
   "execution_count": 142,
   "metadata": {},
   "outputs": [
    {
     "name": "stdout",
     "output_type": "stream",
     "text": [
      "0.0\n",
      "0.0\n"
     ]
    }
   ],
   "source": [
    "print(cond_entropy([32], [17, 19, 21, 23, 25, 27, 30], data, key_list))\n",
    "print(entropy([32], data, key_list))"
   ]
  },
  {
   "cell_type": "code",
   "execution_count": 148,
   "metadata": {},
   "outputs": [
    {
     "name": "stdout",
     "output_type": "stream",
     "text": [
      "0.79085809055281\n",
      "0.7713280051425913\n",
      "0.6883679396102069\n",
      "1.4596959447527982\n"
     ]
    }
   ],
   "source": [
    "print(entropy([21], data, key_list))\n",
    "print(entropy([19], data, key_list))\n",
    "print(cond_entropy([21], [19], data, key_list))\n",
    "print(entropy([19, 21], data, key_list))"
   ]
  },
  {
   "cell_type": "code",
   "execution_count": 155,
   "metadata": {},
   "outputs": [
    {
     "name": "stdout",
     "output_type": "stream",
     "text": [
      "0.9961946033330253\n",
      "0.529935486004238\n",
      "0.5299296013077401\n",
      "1.5261242046407655\n"
     ]
    }
   ],
   "source": [
    "print(entropy([23], data, key_list))\n",
    "print(entropy([30], data, key_list))\n",
    "print(cond_entropy([30], [23], data, key_list))\n",
    "print(entropy([23, 30], data, key_list))"
   ]
  },
  {
   "cell_type": "code",
   "execution_count": 158,
   "metadata": {},
   "outputs": [
    {
     "name": "stdout",
     "output_type": "stream",
     "text": [
      "0.79085809055281\n",
      "0.7908466362896371\n",
      "0.6883679396102069\n"
     ]
    }
   ],
   "source": [
    "print(entropy([21], data, key_list))\n",
    "print(cond_entropy([21], [30], data, key_list))\n",
    "print(cond_entropy([21], [19], data, key_list))"
   ]
  },
  {
   "cell_type": "markdown",
   "metadata": {},
   "source": [
    "## Setting2 for example2"
   ]
  },
  {
   "cell_type": "code",
   "execution_count": 161,
   "metadata": {},
   "outputs": [
    {
     "name": "stdout",
     "output_type": "stream",
     "text": [
      "[16, 18, 20, 22, 24, 26, 28, 30, 32, 34, 36, 38, 41, 43, 45, 47, 49, 51, 53, 55, 57, 58]\n",
      "[1.     0.     0.     0.     0.     0.     0.     0.     0.     0.\n",
      " 1.     1.     1.     0.     0.     0.     0.     0.     1.     1.\n",
      " 0.     1.     0.0081]\n",
      "[1.     1.     0.     0.     0.     0.     0.     0.     0.     1.\n",
      " 0.     1.     1.     0.     0.     0.     0.     0.     1.     0.\n",
      " 0.     1.     0.0167]\n",
      "1.0\n",
      "0.0\n",
      "0.49440000000000006\n"
     ]
    }
   ],
   "source": [
    "import os\n",
    "\n",
    "os.chdir(\"/Users/bohrok/Documents/LCA/example/log2\")\n",
    "# os.listdir()\n",
    "data_dict = {}\n",
    "key_set = set()\n",
    "total_log = 0\n",
    "for log_path in os.listdir():\n",
    "    total_log += 1\n",
    "    with open(log_path) as f:\n",
    "        key_tup = tuple(log_parser(l)[1] for l in f.readlines())\n",
    "        if key_tup not in data_dict:\n",
    "            data_dict[key_tup] = 1\n",
    "        else:\n",
    "            data_dict[key_tup] += 1\n",
    "        key_set = key_set.union(set(key_tup))\n",
    "key_list = sorted(list(key_set))\n",
    "data = np.array(\n",
    "    [\n",
    "        [key in k for key in key_list] + [v / total_log]\n",
    "        for k, v in data_dict.items()\n",
    "    ]\n",
    ")\n",
    "print(key_list)\n",
    "print(data[0])\n",
    "print(data[2])\n",
    "print(prob([1] + [None] * (len(key_list) - 1), data))\n",
    "print(prob([0, 1] + [None] * (len(key_list) - 2), data))\n",
    "print(prob([1, 1] + [None] * (len(key_list) - 2), data))\n"
   ]
  },
  {
   "cell_type": "markdown",
   "metadata": {},
   "source": [
    "### Entropy analysis"
   ]
  },
  {
   "cell_type": "code",
   "execution_count": 162,
   "metadata": {},
   "outputs": [
    {
     "data": {
      "text/plain": [
       "5.147567392676745"
      ]
     },
     "execution_count": 162,
     "metadata": {},
     "output_type": "execute_result"
    }
   ],
   "source": [
    "entropy(key_list, data, key_list)"
   ]
  },
  {
   "cell_type": "code",
   "execution_count": 163,
   "metadata": {},
   "outputs": [
    {
     "name": "stdout",
     "output_type": "stream",
     "text": [
      "16 0.0\n",
      "18 0.9999095122751833\n",
      "20 0.8082527838031908\n",
      "22 0.5415960579317732\n",
      "24 0.34001887854711793\n",
      "26 0.1968931689468837\n",
      "28 0.20775654405105218\n",
      "30 0.3317961201533855\n",
      "32 0.5401860940599541\n",
      "34 0.8053609204921137\n",
      "36 0.9999095122751833\n",
      "38 0.0\n",
      "41 0.9999981533495597\n",
      "43 0.9162490663435757\n",
      "45 0.7195215929897254\n",
      "47 0.5017230909122596\n",
      "49 0.50292491124756\n",
      "51 0.7183134545725995\n",
      "53 0.9188614586689446\n",
      "55 0.9144147093999843\n",
      "57 0.8076123172572023\n",
      "58 0.0\n"
     ]
    }
   ],
   "source": [
    "for key in key_list:\n",
    "    print(key, entropy([key], data, key_list))"
   ]
  },
  {
   "cell_type": "code",
   "execution_count": 164,
   "metadata": {},
   "outputs": [
    {
     "name": "stdout",
     "output_type": "stream",
     "text": [
      "H(16) = 0.0    sum_H = 0.0\n",
      "H(18|[16]) = 0.9999095122751833    sum_H = 0.9999095122751833\n",
      "H(20|[16, 18]) = 0.4943952727121168    sum_H = 1.4943047849873001\n",
      "H(22|[16, 18, 20]) = 0.24809927312776225    sum_H = 1.7424040581150624\n",
      "H(24|[16, 18, 20, 22]) = 0.12427440632410636    sum_H = 1.8666784644391687\n",
      "H(26|[16, 18, 20, 22, 24]) = 0.0631447464012731    sum_H = 1.9298232108404418\n",
      "H(28|[16, 18, 20, 22, 24, 26]) = 0.0    sum_H = 1.9298232108404418\n",
      "H(30|[16, 18, 20, 22, 24, 26, 28]) = 0.0    sum_H = 1.9298232108404418\n",
      "H(32|[16, 18, 20, 22, 24, 26, 28, 30]) = 0.0    sum_H = 1.9298232108404418\n",
      "H(34|[16, 18, 20, 22, 24, 26, 28, 30, 32]) = 0.0    sum_H = 1.9298232108404418\n",
      "H(36|[16, 18, 20, 22, 24, 26, 28, 30, 32, 34]) = 0.0    sum_H = 1.9298232108404418\n",
      "H(38|[16, 18, 20, 22, 24, 26, 28, 30, 32, 34, 36]) = 0.0    sum_H = 1.9298232108404418\n",
      "H(41|[16, 18, 20, 22, 24, 26, 28, 30, 32, 34, 36, 38]) = 0.9994608449121598    sum_H = 2.9292840557526016\n",
      "H(43|[16, 18, 20, 22, 24, 26, 28, 30, 32, 34, 36, 38, 41]) = 0.4598468814380956    sum_H = 3.3891309371906972\n",
      "H(45|[16, 18, 20, 22, 24, 26, 28, 30, 32, 34, 36, 38, 41, 43]) = 0.32092650847653204    sum_H = 3.7100574456672293\n",
      "H(47|[16, 18, 20, 22, 24, 26, 28, 30, 32, 34, 36, 38, 41, 43, 45]) = 0.19640975850067255    sum_H = 3.906467204167902\n",
      "H(49|[16, 18, 20, 22, 24, 26, 28, 30, 32, 34, 36, 38, 41, 43, 45, 47]) = 0.08095520414671231    sum_H = 3.987422408314614\n",
      "H(51|[16, 18, 20, 22, 24, 26, 28, 30, 32, 34, 36, 38, 41, 43, 45, 47, 49]) = 0.1791748214739548    sum_H = 4.166597229788569\n",
      "H(53|[16, 18, 20, 22, 24, 26, 28, 30, 32, 34, 36, 38, 41, 43, 45, 47, 49, 51]) = 0.3187608342768904    sum_H = 4.485358064065459\n",
      "H(55|[16, 18, 20, 22, 24, 26, 28, 30, 32, 34, 36, 38, 41, 43, 45, 47, 49, 51, 53]) = 0.410529084540185    sum_H = 4.895887148605644\n",
      "H(57|[16, 18, 20, 22, 24, 26, 28, 30, 32, 34, 36, 38, 41, 43, 45, 47, 49, 51, 53, 55]) = 0.25168024407110057    sum_H = 5.147567392676745\n",
      "H(58|[16, 18, 20, 22, 24, 26, 28, 30, 32, 34, 36, 38, 41, 43, 45, 47, 49, 51, 53, 55, 57]) = 0.0    sum_H = 5.147567392676745\n"
     ]
    }
   ],
   "source": [
    "sum_H = 0\n",
    "agg_key = []\n",
    "for key in key_list:\n",
    "    if len(agg_key) == 0:\n",
    "        H = entropy([key], data, key_list)\n",
    "        print(f\"H({key}) = {H}\", end=\"    \")\n",
    "        \n",
    "    else:\n",
    "        H = cond_entropy([key], agg_key, data, key_list)\n",
    "        print(\n",
    "            f\"H({key}|{agg_key}) = {H}\", end=\"    \"\n",
    "        )\n",
    "    sum_H += H\n",
    "    print(f\"sum_H = {sum_H}\")\n",
    "    agg_key.append(key)"
   ]
  },
  {
   "cell_type": "code",
   "execution_count": 196,
   "metadata": {},
   "outputs": [
    {
     "name": "stdout",
     "output_type": "stream",
     "text": [
      "2.577783180949175\n",
      "2.477862939168026\n",
      "0.09992024178114889\n",
      "0.038762081512362455\n"
     ]
    }
   ],
   "source": [
    "E_before = cond_entropy([18, 20, 22, 26, 41, 43, 46, 47, 55, 57], [18, 20, 22], data, key_list)\n",
    "E_after = cond_entropy([18, 20, 22, 26, 41, 43, 46, 47, 55, 57], [18, 20, 22, 26], data, key_list)\n",
    "print(E_before)\n",
    "print(E_after)\n",
    "print(E_before - E_after)\n",
    "print((E_before - E_after) / E_before)"
   ]
  },
  {
   "cell_type": "code",
   "execution_count": null,
   "metadata": {},
   "outputs": [],
   "source": []
  }
 ],
 "metadata": {
  "interpreter": {
   "hash": "6cc4813e4c91072c9ce7257a426316b93c888c2cd0458b03d52734fa25fd1a05"
  },
  "kernelspec": {
   "display_name": "Python 3.9.7 64-bit ('3.9.7': pyenv)",
   "language": "python",
   "name": "python3"
  },
  "language_info": {
   "codemirror_mode": {
    "name": "ipython",
    "version": 3
   },
   "file_extension": ".py",
   "mimetype": "text/x-python",
   "name": "python",
   "nbconvert_exporter": "python",
   "pygments_lexer": "ipython3",
   "version": "3.9.7"
  },
  "orig_nbformat": 4
 },
 "nbformat": 4,
 "nbformat_minor": 2
}
